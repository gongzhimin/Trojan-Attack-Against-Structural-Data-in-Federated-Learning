{
 "cells": [
  {
   "cell_type": "code",
   "execution_count": 1,
   "id": "63ade233",
   "metadata": {},
   "outputs": [],
   "source": [
    "import pandas as pd"
   ]
  },
  {
   "cell_type": "code",
   "execution_count": null,
   "id": "115259bb",
   "metadata": {},
   "outputs": [],
   "source": [
    "data_dir = \"../data/train_data.csv\"\n",
    "data = pd.read_csv(data_dir, sep='|')"
   ]
  },
  {
   "cell_type": "code",
   "execution_count": null,
   "id": "c6910e13",
   "metadata": {},
   "outputs": [],
   "source": [
    "# find the maximum value of each column\n",
    "# max{data} < 2^32 - 1\n",
    "for i, column in data.items():\n",
    "    if column.dtype != \"int64\":\n",
    "        break\n",
    "    max_value = column.max()\n",
    "    min_value = column.min()\n",
    "    if max_value > 2147483647 or min_value <  -2147483648:\n",
    "        print(i, \" overflow!\")\n",
    "    else:\n",
    "        print(i, \"fine\")"
   ]
  },
  {
   "cell_type": "code",
   "execution_count": null,
   "id": "90e1b188",
   "metadata": {},
   "outputs": [],
   "source": [
    "for i, column in data.items():\n",
    "    print(i, column.dtype)"
   ]
  },
  {
   "cell_type": "code",
   "execution_count": null,
   "id": "9be26f59",
   "metadata": {},
   "outputs": [],
   "source": [
    "del data[\"communication_onlinerate\"]"
   ]
  },
  {
   "cell_type": "code",
   "execution_count": null,
   "id": "486a289c",
   "metadata": {},
   "outputs": [],
   "source": [
    "[column for column in data]"
   ]
  },
  {
   "cell_type": "code",
   "execution_count": null,
   "id": "51b502a9",
   "metadata": {},
   "outputs": [],
   "source": [
    "data = pd.DataFrame(data, dtype=\"int32\")"
   ]
  },
  {
   "cell_type": "code",
   "execution_count": null,
   "id": "76dbfbef",
   "metadata": {},
   "outputs": [],
   "source": [
    "# save the data as csv file\n",
    "data.to_csv(\"../data/new_train_data.csv\", index_label=\"index\")"
   ]
  },
  {
   "cell_type": "code",
   "execution_count": 2,
   "id": "a2eaa9d4",
   "metadata": {},
   "outputs": [],
   "source": [
    "data_dir = \"../data/new_train_data.csv\"\n",
    "data = pd.read_csv(data_dir, dtype=\"int32\")"
   ]
  },
  {
   "cell_type": "code",
   "execution_count": 3,
   "id": "30036c9a",
   "metadata": {},
   "outputs": [
    {
     "data": {
      "text/plain": [
       "5.620184615254402"
      ]
     },
     "execution_count": 3,
     "metadata": {},
     "output_type": "execute_result"
    }
   ],
   "source": [
    "data.memory_usage().sum() / (1024**3)"
   ]
  },
  {
   "cell_type": "code",
   "execution_count": null,
   "id": "f34319f2",
   "metadata": {},
   "outputs": [],
   "source": []
  }
 ],
 "metadata": {
  "kernelspec": {
   "display_name": "Python [conda env:root] *",
   "language": "python",
   "name": "conda-root-py"
  },
  "language_info": {
   "codemirror_mode": {
    "name": "ipython",
    "version": 3
   },
   "file_extension": ".py",
   "mimetype": "text/x-python",
   "name": "python",
   "nbconvert_exporter": "python",
   "pygments_lexer": "ipython3",
   "version": "3.7.10"
  }
 },
 "nbformat": 4,
 "nbformat_minor": 5
}
